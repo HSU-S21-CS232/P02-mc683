{
 "cells": [
  {
   "cell_type": "markdown",
   "id": "white-lounge",
   "metadata": {},
   "source": [
    "## Testing JupyterLab"
   ]
  },
  {
   "cell_type": "code",
   "execution_count": 4,
   "id": "sixth-reggae",
   "metadata": {},
   "outputs": [],
   "source": [
    "import pandas as pd"
   ]
  },
  {
   "cell_type": "code",
   "execution_count": 13,
   "id": "exceptional-lender",
   "metadata": {},
   "outputs": [],
   "source": [
    "magic_df = pd.read_json('Standard.json')"
   ]
  },
  {
   "cell_type": "code",
   "execution_count": 16,
   "id": "offensive-revision",
   "metadata": {},
   "outputs": [
    {
     "name": "stdout",
     "output_type": "stream",
     "text": [
      "<class 'pandas.core.frame.DataFrame'>\n",
      "Index: 18 entries, baseSetSize to block\n",
      "Data columns (total 5 columns):\n",
      " #   Column  Non-Null Count  Dtype \n",
      "---  ------  --------------  ----- \n",
      " 0   ELD     17 non-null     object\n",
      " 1   GRN     18 non-null     object\n",
      " 2   M20     18 non-null     object\n",
      " 3   RNA     18 non-null     object\n",
      " 4   WAR     18 non-null     object\n",
      "dtypes: object(5)\n",
      "memory usage: 864.0+ bytes\n"
     ]
    }
   ],
   "source": [
    "magic_df.info()"
   ]
  },
  {
   "cell_type": "code",
   "execution_count": 28,
   "id": "increasing-uniform",
   "metadata": {},
   "outputs": [
    {
     "data": {
      "text/html": [
       "<div>\n",
       "<style scoped>\n",
       "    .dataframe tbody tr th:only-of-type {\n",
       "        vertical-align: middle;\n",
       "    }\n",
       "\n",
       "    .dataframe tbody tr th {\n",
       "        vertical-align: top;\n",
       "    }\n",
       "\n",
       "    .dataframe thead th {\n",
       "        text-align: right;\n",
       "    }\n",
       "</style>\n",
       "<table border=\"1\" class=\"dataframe\">\n",
       "  <thead>\n",
       "    <tr style=\"text-align: right;\">\n",
       "      <th></th>\n",
       "      <th>ELD</th>\n",
       "      <th>GRN</th>\n",
       "      <th>M20</th>\n",
       "      <th>RNA</th>\n",
       "      <th>WAR</th>\n",
       "    </tr>\n",
       "  </thead>\n",
       "  <tbody>\n",
       "    <tr>\n",
       "      <th>baseSetSize</th>\n",
       "      <td>269</td>\n",
       "      <td>259</td>\n",
       "      <td>280</td>\n",
       "      <td>259</td>\n",
       "      <td>264</td>\n",
       "    </tr>\n",
       "    <tr>\n",
       "      <th>boosterV3</th>\n",
       "      <td>[[rare, mythic rare], uncommon, uncommon, unco...</td>\n",
       "      <td>[[rare, mythic rare], uncommon, uncommon, unco...</td>\n",
       "      <td>[[rare, mythic rare], uncommon, uncommon, unco...</td>\n",
       "      <td>[[rare, mythic rare], uncommon, uncommon, unco...</td>\n",
       "      <td>[[rare, mythic rare], uncommon, uncommon, unco...</td>\n",
       "    </tr>\n",
       "    <tr>\n",
       "      <th>cards</th>\n",
       "      <td>[{'artist': 'David Gaillet', 'borderColor': 'b...</td>\n",
       "      <td>[{'artist': 'Steve Prescott', 'borderColor': '...</td>\n",
       "      <td>[{'artist': 'Eric Deschamps', 'borderColor': '...</td>\n",
       "      <td>[{'artist': 'Izzy', 'borderColor': 'black', 'c...</td>\n",
       "      <td>[{'artist': 'Tomasz Jedruszek', 'borderColor':...</td>\n",
       "    </tr>\n",
       "    <tr>\n",
       "      <th>code</th>\n",
       "      <td>ELD</td>\n",
       "      <td>GRN</td>\n",
       "      <td>M20</td>\n",
       "      <td>RNA</td>\n",
       "      <td>WAR</td>\n",
       "    </tr>\n",
       "    <tr>\n",
       "      <th>isFoilOnly</th>\n",
       "      <td>False</td>\n",
       "      <td>False</td>\n",
       "      <td>False</td>\n",
       "      <td>False</td>\n",
       "      <td>False</td>\n",
       "    </tr>\n",
       "  </tbody>\n",
       "</table>\n",
       "</div>"
      ],
      "text/plain": [
       "                                                           ELD  \\\n",
       "baseSetSize                                                269   \n",
       "boosterV3    [[rare, mythic rare], uncommon, uncommon, unco...   \n",
       "cards        [{'artist': 'David Gaillet', 'borderColor': 'b...   \n",
       "code                                                       ELD   \n",
       "isFoilOnly                                               False   \n",
       "\n",
       "                                                           GRN  \\\n",
       "baseSetSize                                                259   \n",
       "boosterV3    [[rare, mythic rare], uncommon, uncommon, unco...   \n",
       "cards        [{'artist': 'Steve Prescott', 'borderColor': '...   \n",
       "code                                                       GRN   \n",
       "isFoilOnly                                               False   \n",
       "\n",
       "                                                           M20  \\\n",
       "baseSetSize                                                280   \n",
       "boosterV3    [[rare, mythic rare], uncommon, uncommon, unco...   \n",
       "cards        [{'artist': 'Eric Deschamps', 'borderColor': '...   \n",
       "code                                                       M20   \n",
       "isFoilOnly                                               False   \n",
       "\n",
       "                                                           RNA  \\\n",
       "baseSetSize                                                259   \n",
       "boosterV3    [[rare, mythic rare], uncommon, uncommon, unco...   \n",
       "cards        [{'artist': 'Izzy', 'borderColor': 'black', 'c...   \n",
       "code                                                       RNA   \n",
       "isFoilOnly                                               False   \n",
       "\n",
       "                                                           WAR  \n",
       "baseSetSize                                                264  \n",
       "boosterV3    [[rare, mythic rare], uncommon, uncommon, unco...  \n",
       "cards        [{'artist': 'Tomasz Jedruszek', 'borderColor':...  \n",
       "code                                                       WAR  \n",
       "isFoilOnly                                               False  "
      ]
     },
     "execution_count": 28,
     "metadata": {},
     "output_type": "execute_result"
    }
   ],
   "source": [
    "magic_df.head()"
   ]
  },
  {
   "cell_type": "code",
   "execution_count": 33,
   "id": "reverse-frame",
   "metadata": {},
   "outputs": [
    {
     "data": {
      "text/plain": [
       "baseSetSize                                                       269\n",
       "boosterV3           [[rare, mythic rare], uncommon, uncommon, unco...\n",
       "cards               [{'artist': 'David Gaillet', 'borderColor': 'b...\n",
       "code                                                              ELD\n",
       "isFoilOnly                                                      False\n",
       "isOnlineOnly                                                    False\n",
       "keyruneCode                                                       ELD\n",
       "mcmId                                                            2582\n",
       "mcmName                                            Throne of Eldraine\n",
       "meta                {'date': '2019-11-10', 'pricesDate': '2019-11-...\n",
       "mtgoCode                                                          ELD\n",
       "name                                               Throne of Eldraine\n",
       "releaseDate                                                2019-10-04\n",
       "tcgplayerGroupId                                                 2494\n",
       "tokens              [{'artist': 'Forrest Imel', 'borderColor': 'bl...\n",
       "totalSetSize                                                      397\n",
       "type                                                        expansion\n",
       "block                                                             NaN\n",
       "Name: ELD, dtype: object"
      ]
     },
     "execution_count": 33,
     "metadata": {},
     "output_type": "execute_result"
    }
   ],
   "source": [
    "eldraine = magic_df['ELD']\n",
    "eldraine"
   ]
  },
  {
   "cell_type": "code",
   "execution_count": 34,
   "id": "extra-inflation",
   "metadata": {},
   "outputs": [
    {
     "data": {
      "text/plain": [
       "baseSetSize                                                  269\n",
       "boosterV3      [[rare, mythic rare], uncommon, uncommon, unco...\n",
       "cards          [{'artist': 'David Gaillet', 'borderColor': 'b...\n",
       "code                                                         ELD\n",
       "isFoilOnly                                                 False\n",
       "Name: ELD, dtype: object"
      ]
     },
     "execution_count": 34,
     "metadata": {},
     "output_type": "execute_result"
    }
   ],
   "source": [
    "eldraine.head()"
   ]
  },
  {
   "cell_type": "code",
   "execution_count": null,
   "id": "dental-experiment",
   "metadata": {},
   "outputs": [],
   "source": []
  }
 ],
 "metadata": {
  "kernelspec": {
   "display_name": "Python 3",
   "language": "python",
   "name": "python3"
  },
  "language_info": {
   "codemirror_mode": {
    "name": "ipython",
    "version": 3
   },
   "file_extension": ".py",
   "mimetype": "text/x-python",
   "name": "python",
   "nbconvert_exporter": "python",
   "pygments_lexer": "ipython3",
   "version": "3.9.1"
  }
 },
 "nbformat": 4,
 "nbformat_minor": 5
}
